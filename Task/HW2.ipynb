{
 "cells": [
  {
   "cell_type": "markdown",
   "metadata": {},
   "source": [
    "## Домашнее задание №2"
   ]
  },
  {
   "cell_type": "markdown",
   "metadata": {},
   "source": [
    "*Составлено с использованием материалов курса лекций «Программирование на языке Python для сбора и анализа данных» Щурова И.В., НИУ ВШЭ*"
   ]
  },
  {
   "cell_type": "markdown",
   "metadata": {},
   "source": [
    "***В сумме за домашнюю работу вы можете получить 33 балла.*** <br> \n",
    "***Итоговая оценка будет равна доле полученных баллов от общей суммы x10.*** \n",
    "<p>\n",
    "<font size='3' color=\"B3000C\">Ноутбук (файл в расширением .ipynb) выложите на свой git и пришлите ссылку на почту python.in.miigaik@gmail.com.<br> В теме письма укажите номер домашней работы и номер группы: HW... , Group... .</font>\n",
    "</p>"
   ]
  },
  {
   "cell_type": "markdown",
   "metadata": {},
   "source": [
    "### Задача 1 Приветствие (1 балл)\n",
    "\n",
    "Напишите программу, которая запрашивает имя пользователя, а затем приветствует его.\n",
    "\n",
    "**Вход**<br>\n",
    "Пользователь должен ввести с клавиатуры свое имя.<br>\n",
    "**Выход** <br>\n",
    "Программа должна выводить одну строчку:\n",
    "\n",
    "    Привет, имя!\n",
    "\n",
    "где имя — введенное пользователем имя. Обратите внимание на пробел после запятой. Других пробелов быть не должно.\n",
    "\n",
    "**Пример**<br>\n",
    "_Входные данные_<br>\n",
    "    бро <br>\n",
    "_Выходные данные_<br>\n",
    "    Привет, бро!\n",
    "\n",
    "\n",
    "_Подсказка._ Избавиться от лишних пробелов можно с помощью: \n",
    "1. Сложения строк (Например, `\"hello\"+\"world\"`) \n",
    "2. Специального параметра у функции `print`(.., `sep`). \n",
    "Узнайте о нем больше можно, если вы введете в пустой ячейке help(print) или print? и запустите ее."
   ]
  },
  {
   "cell_type": "code",
   "execution_count": 1,
   "metadata": {},
   "outputs": [
    {
     "name": "stdout",
     "output_type": "stream",
     "text": [
      "Введите имя пользователя: Елена\n",
      "Привет, Елена!\n"
     ]
    }
   ],
   "source": [
    "# решение \n",
    "name = input(\"Введите имя пользователя: \")\n",
    "print (\"Привет,\",name +'!')"
   ]
  },
  {
   "cell_type": "markdown",
   "metadata": {},
   "source": [
    "### Задача 2 Возведение в степень.  (1 балл)\n",
    "\n",
    "Вычислите $2^{20}$. Выведите на экран вычисленное значение. "
   ]
  },
  {
   "cell_type": "code",
   "execution_count": 2,
   "metadata": {},
   "outputs": [
    {
     "data": {
      "text/plain": [
       "1048576"
      ]
     },
     "execution_count": 2,
     "metadata": {},
     "output_type": "execute_result"
    }
   ],
   "source": [
    "# решение\n",
    "2**20"
   ]
  },
  {
   "cell_type": "markdown",
   "metadata": {},
   "source": [
    "### Задача 3 Гипотенуза  (1 балл)\n",
    "Написать программу, в которой пользователь вводит поочередно длины катетов, а она в ответ выдает значение гипотенузы. \n",
    "\n",
    "**Вход** <br>\n",
    "C клавиатуры по очереди вводятся 2 числа.<br>\n",
    "**Выход** <br>\n",
    "Длина гипотенузы\n",
    "\n",
    "**Пример**<br>\n",
    "_Входные данные_<br>\n",
    "    3 <br>\n",
    "    4 <br>\n",
    "Выходные данные<br>\n",
    "    5.0"
   ]
  },
  {
   "cell_type": "code",
   "execution_count": 35,
   "metadata": {},
   "outputs": [
    {
     "name": "stdout",
     "output_type": "stream",
     "text": [
      "Длина катета а: 3\n",
      "Длина катета b: 4\n",
      "Гипотенуза: 5.0\n"
     ]
    }
   ],
   "source": [
    "x = float(input(\"Длина катета а: \"))\n",
    "y = float(input(\"Длина катета b: \"))\n",
    "print (\"Гипотенуза:\", ((x**2)+(y**2))**0.5)"
   ]
  },
  {
   "cell_type": "markdown",
   "metadata": {},
   "source": [
    "### Задача 4 Делёж яблок  (1 балл)\n",
    "\n",
    "$n$ школьников делят $k$ яблок поровну, неделящийся остаток остается в корзинке. Сколько яблок достанется каждому школьнику?\n",
    "\n",
    "**Вход**<br>\n",
    "Пользователь вводит числа $n$ и $k$.<br>\n",
    "**Выход**<br>\n",
    "Программа должна вывести искомое количество яблок.\n",
    "\n",
    "**Пример**<br>\n",
    "_Входные данные_<br>\n",
    "    3<br>\n",
    "    14<br>\n",
    "_Выходные данные_<br>\n",
    "    4<br>"
   ]
  },
  {
   "cell_type": "code",
   "execution_count": 1,
   "metadata": {},
   "outputs": [
    {
     "name": "stdout",
     "output_type": "stream",
     "text": [
      "Школьников: 3\n",
      "Количество яблок в корзине: 14\n",
      "Количество яблок у каждого школьника 4\n"
     ]
    }
   ],
   "source": [
    "n = int(input(\"Школьников: \"))\n",
    "k = int(input(\"Количество яблок в корзине: \"))\n",
    "print(\"Количество яблок у каждого школьника\", k//n)"
   ]
  },
  {
   "cell_type": "markdown",
   "metadata": {},
   "source": [
    "### Задача 5  (1 балл)\n",
    "\n",
    "Напишите программу, которая считывает целое число и выводит текст, указанный ниже, который содеражит следующее и предыдущее числа. Сохраните пробелы и переносы строк, указанные в тексте.\n",
    "\n",
    "**Вход**<br>\n",
    "> Вводится целое число.\n",
    "\n",
    "**Выход**<br>\n",
    ">    Получено число - *число*.<br>\n",
    "> Следующее число - *число*,  предыдущее число - *число*. \n",
    "\n",
    "**Пример**<br>\n",
    "_Входные данные_<br>\n",
    "    5<br>\n",
    "_Выходные данные_<br>\n",
    ">  Получено число - 5.<br>\n",
    "> Следующее число - 6,  предыдущее число - 4."
   ]
  },
  {
   "cell_type": "code",
   "execution_count": 7,
   "metadata": {},
   "outputs": [
    {
     "name": "stdout",
     "output_type": "stream",
     "text": [
      "Введите число: 8\n",
      "Получено число - 8\n",
      "Следующее число - 9 предыдущее число - 7\n"
     ]
    }
   ],
   "source": [
    "# решение\n",
    "x= int(input(\"Введите число: \"))\n",
    "print (\"Получено число -\", x)\n",
    "y= 1\n",
    "z= -1\n",
    "print (\"Следующее число -\", x+y,\"предыдущее число -\",x+z)"
   ]
  },
  {
   "cell_type": "markdown",
   "metadata": {},
   "source": [
    "### Задача 6  (1.5 балла)\n",
    "\n",
    "Пользователь вводит целое число $n$. Выведите следующее за ним четное число. При решении этой задачи нельзя использовать условный оператор `if` и циклы.\n",
    "\n",
    "\n",
    "**Вход**<br>\n",
    ">Вводится целое число.\n",
    "\n",
    "**Выход**\n",
    ">Выведите ответ на задачу.\n",
    "\n",
    "**Примеры**<br>\n",
    "_Входные данные_<br>\n",
    "    7<br>\n",
    "_Выходные данные_<br>\n",
    "    8<br>\n",
    "    \n",
    "_Входные данные_<br>\n",
    "    8 <br>\n",
    "_Выходные данные_<br>\n",
    "    10"
   ]
  },
  {
   "cell_type": "code",
   "execution_count": 15,
   "metadata": {},
   "outputs": [
    {
     "name": "stdout",
     "output_type": "stream",
     "text": [
      "Введите целое число: 8\n",
      "Четное число: 10\n"
     ]
    }
   ],
   "source": [
    "# решение\n",
    "x= int(input(\"Введите целое число: \"))\n",
    "print (\"Четное число:\", x+2-(x%2))"
   ]
  },
  {
   "cell_type": "code",
   "execution_count": 1,
   "metadata": {},
   "outputs": [
    {
     "name": "stdout",
     "output_type": "stream",
     "text": [
      "Введите целое число: 5\n",
      "Четное число: 6\n"
     ]
    }
   ],
   "source": [
    "x= int(input(\"Введите целое число: \"))\n",
    "print (\"Четное число:\", x//2*2+2)"
   ]
  },
  {
   "cell_type": "markdown",
   "metadata": {},
   "source": [
    "### Задача 7  (1.5 балла)\n",
    "\n",
    "Пользователь вводит целое скольугодно большое число. Найдите сумму его цифр.\n",
    "\n",
    "**Вход**<br>\n",
    "> Вводится целое положительное число.\n",
    "\n",
    "**Выход**<br>\n",
    ">Выведите ответ на задачу.\n",
    "\n",
    "**Пример**<br>\n",
    "_Входные данные_<br>\n",
    "2563<br>\n",
    "_Выходные данные_<br>\n",
    "16\n",
    "\n",
    "***Подсказка:*** *функция len() и проход циклом for для строк работают также как и для списков.*"
   ]
  },
  {
   "cell_type": "code",
   "execution_count": 2,
   "metadata": {},
   "outputs": [
    {
     "name": "stdout",
     "output_type": "stream",
     "text": [
      "Введите целое положительное число: 2563\n",
      "16\n"
     ]
    }
   ],
   "source": [
    "# решение\n",
    "s= input(\"Введите целое положительное число: \")\n",
    "print(sum((int(x) for x in s)))"
   ]
  },
  {
   "cell_type": "code",
   "execution_count": 4,
   "metadata": {},
   "outputs": [
    {
     "name": "stdout",
     "output_type": "stream",
     "text": [
      "Введите целое положительное число: 2563\n",
      "16\n"
     ]
    }
   ],
   "source": [
    "s= int(input(\"Введите целое положительное число: \"))\n",
    "a=0\n",
    "for m in str(s):\n",
    "    a=a+int(m)\n",
    "print(a)"
   ]
  },
  {
   "cell_type": "markdown",
   "metadata": {},
   "source": [
    "### Задача 8  (1 балл)\n",
    "Пользователь с клавиатуры вводит целое число $n$ - длина списка. Затем последовательно вводит $n$ объектов (любого типа) - элементы списка. После пользователь вводит еще одно число $k$, и еще один элемент.\n",
    "Ваша задача вставить в список на позицию с индексом $k$ последний введенный элемент. При этом все исходные элементы должны остаться в списке (просто некоторые чуть-чуть сдвинутся). \n",
    "Выведите на экран 2 строчки: старый список и новый.\n",
    "\n",
    "**Вход**<br>\n",
    " 3<br>\n",
    " 1<br>\n",
    " 2<br>\n",
    " 3<br>\n",
    " 1<br>\n",
    " 'insertion'<br>\n",
    "**Выход**<br>\n",
    "[1, 2, 3]<br>\n",
    "[1, 'insertion', 2, 3]"
   ]
  },
  {
   "cell_type": "code",
   "execution_count": 39,
   "metadata": {},
   "outputs": [
    {
     "name": "stdout",
     "output_type": "stream",
     "text": [
      "3\n",
      "1 2 3 4 5 6\n",
      "1\n",
      "insertion\n",
      "[1, 2, 3]\n",
      "[1, 'insertion', 2, 3]\n"
     ]
    }
   ],
   "source": [
    "# решение\n",
    "N = int(input())\n",
    "arr = list(map(int, input().split()[:N]))\n",
    "K = int(input())\n",
    "element = input()\n",
    "arr2=arr.copy()\n",
    "arr2.insert (K, element)\n",
    "print (arr)\n",
    "print (arr2)"
   ]
  },
  {
   "cell_type": "code",
   "execution_count": 33,
   "metadata": {
    "scrolled": true
   },
   "outputs": [
    {
     "name": "stdout",
     "output_type": "stream",
     "text": [
      "3\n",
      "1\n",
      "2\n",
      "3\n",
      "1\n",
      "insertion\n",
      "[1, 2, 3]\n",
      "[1, 'insertion', 2, 3]\n"
     ]
    }
   ],
   "source": [
    "N =int(input())\n",
    "list_1=[0]\n",
    "for i in range(1, N+1):\n",
    "    list_1.append(int(input()))\n",
    "del(list_1[0])\n",
    "k = int(input())\n",
    "list_2=input()\n",
    "print(list_1)\n",
    "list_1[k:k] = [list_2]\n",
    "print(list_1)"
   ]
  },
  {
   "cell_type": "markdown",
   "metadata": {},
   "source": [
    "### Задача 9  (1 балл)\n",
    "Как и в прошлом задании пользователь подает на вход список. Вам нужно вывести все элементы списка, стоящие на четных индексах.\n",
    "\n",
    "**Вход**<br>\n",
    "5<br>\n",
    "1<br>\n",
    "2<br>\n",
    "3<br>\n",
    "4<br>\n",
    "5<br>\n",
    "**Выход**<br>\n",
    "[1, 3, 5]"
   ]
  },
  {
   "cell_type": "code",
   "execution_count": 41,
   "metadata": {},
   "outputs": [
    {
     "name": "stdout",
     "output_type": "stream",
     "text": [
      "5\n",
      "1 2 3 4 5 6 7\n",
      "[1, 3, 5]\n"
     ]
    }
   ],
   "source": [
    "# решение\n",
    "w = int(input())\n",
    "bar = list(map(int, input().split()[:w]))\n",
    "print (bar[0:w:2])"
   ]
  },
  {
   "cell_type": "code",
   "execution_count": 34,
   "metadata": {},
   "outputs": [
    {
     "name": "stdout",
     "output_type": "stream",
     "text": [
      "5\n",
      "1\n",
      "2\n",
      "3\n",
      "4\n",
      "5\n",
      "[1, 3, 5]\n"
     ]
    }
   ],
   "source": [
    "W =int(input())\n",
    "list_3=[0]\n",
    "for i in range(1, W+1):\n",
    "    list_3.append(int(input()))\n",
    "del(list_3[0])\n",
    "print (list_3[0:W:2])"
   ]
  },
  {
   "cell_type": "markdown",
   "metadata": {},
   "source": [
    "### Задача 10  (1 балл)\n",
    "Пользователь поочередно вводит 2 целых числа $n$ и $m$, при чем $n \\le m$. Выведите все числа от $n$ до $m$ включительно.\n",
    "Обратите внимаие на формат вывода!\n",
    "\n",
    "**Ввод**<br>\n",
    "2<br>\n",
    "5<br>\n",
    "**Вывод**<br>\n",
    "2 3 4 5"
   ]
  },
  {
   "cell_type": "code",
   "execution_count": 32,
   "metadata": {},
   "outputs": [
    {
     "name": "stdout",
     "output_type": "stream",
     "text": [
      "2\n",
      "5\n",
      "2 3 4 5 "
     ]
    }
   ],
   "source": [
    "n=int(input())\n",
    "m=int(input())\n",
    "i=0\n",
    "for i in range (n,m+1):\n",
    "    print(i, end = \" \")"
   ]
  },
  {
   "cell_type": "markdown",
   "metadata": {},
   "source": [
    "### Задача 11 Ряд Лейбница  (2 балла)\n",
    "Известно, что $$\\frac{\\pi}{4} = 1 - \\frac{1}{3} + \\frac{1}{5} - \\frac{1}{7} + \\frac{1}{9} -\\frac{1}{11} + \\dots$$\n",
    "Вычислите приближение к числу $\\pi$ , используя первые 100 членов этого ряда."
   ]
  },
  {
   "cell_type": "code",
   "execution_count": 105,
   "metadata": {},
   "outputs": [
    {
     "name": "stdout",
     "output_type": "stream",
     "text": [
      "3.1315929035585524\n"
     ]
    }
   ],
   "source": [
    "total = 0\n",
    "total = float(total)\n",
    "for i in range(1,100,2):\n",
    "    total += ((1.0/((i*2)-1))-(1.0/((i*2)+1)))\n",
    "value = 4*(total)\n",
    "print(value)"
   ]
  },
  {
   "cell_type": "code",
   "execution_count": 100,
   "metadata": {},
   "outputs": [
    {
     "name": "stdout",
     "output_type": "stream",
     "text": [
      "3.1315929035585524\n"
     ]
    }
   ],
   "source": [
    "a=1\n",
    "for i in range(1,100,2):\n",
    "    a = a -(1/(i*2+1))+(1/(i*2+3))\n",
    "value = 4*(total)\n",
    "print(value)"
   ]
  },
  {
   "cell_type": "markdown",
   "metadata": {},
   "source": [
    "### Задача 12  (1 балл)\n",
    "Необходимо создать список арифметической прогрессии с шагом 1, начинающеся с 1, заданной пользователем длины. Затем нужно поменять местами нечетные элементы с их соседями справа. Если длина списка - нечетная, последний элемент остается на своем месте. На экран нужно вывести 2 строчки: арифметическую прогрессию до и после изменений.\n",
    "\n",
    "**Вход**<br>\n",
    "5<br>\n",
    "**Выход**<br>\n",
    "[1, 2, 3, 4, 5]<br>\n",
    "[2, 1, 4, 3, 5]"
   ]
  },
  {
   "cell_type": "code",
   "execution_count": 1,
   "metadata": {},
   "outputs": [
    {
     "name": "stdout",
     "output_type": "stream",
     "text": [
      "5\n",
      "[1, 2, 3, 4, 5]\n",
      "[2, 1, 4, 3, 5]\n"
     ]
    }
   ],
   "source": [
    "# решение\n",
    "a = int(input())\n",
    "list_first = [0]\n",
    "for i in range(1,a+1):\n",
    "    list_first.append(i)\n",
    "del(list_first[0])\n",
    "b=len(list_first)//2*2\n",
    "list_2=list_first.copy()\n",
    "print(list_2)\n",
    "for i in range (b//2):\n",
    "    list_2[i*2]=(i*2)+2\n",
    "    list_2[i+i+1]=i+i+1\n",
    "print(list_2)"
   ]
  },
  {
   "cell_type": "code",
   "execution_count": 5,
   "metadata": {},
   "outputs": [
    {
     "name": "stdout",
     "output_type": "stream",
     "text": [
      "Insert first integer: 5\n",
      "[1, 2, 3, 4, 5]\n",
      "[2, 1, 4, 3, 5]\n"
     ]
    }
   ],
   "source": [
    "n = int(input(\"Insert first integer: \")) \n",
    "l = list(range(1,n+1)) \n",
    "print(l) \n",
    "i = 1 \n",
    "for a in range(n//2): \n",
    "    l.insert (2*a,l[i]) \n",
    "    del(l[2*a+2]) \n",
    "    i = i + 2 \n",
    "print(l)"
   ]
  },
  {
   "cell_type": "code",
   "execution_count": null,
   "metadata": {},
   "outputs": [],
   "source": [
    "# нужно придумать новую переменную в которой будет записываться число, которое будет меняться. а потом его востанавливать"
   ]
  },
  {
   "cell_type": "code",
   "execution_count": 6,
   "metadata": {},
   "outputs": [
    {
     "name": "stdout",
     "output_type": "stream",
     "text": [
      "Insert first integer: 5\n",
      "[1, 2, 3, 4, 5]\n",
      "[2, 1, 4, 3, 5]\n"
     ]
    }
   ],
   "source": [
    "n = int(input(\"Insert first integer: \")) \n",
    "l = list(range(1,n+1)) \n",
    "print(l) \n",
    "i = 1 \n",
    "for a in range(n//2): \n",
    "    b = l[2*a] \n",
    "    l[2*a] = l[i] \n",
    "    l[i] = b \n",
    "    i = i + 2 \n",
    "print(l)"
   ]
  },
  {
   "cell_type": "markdown",
   "metadata": {},
   "source": [
    "### Задача 13 Снежинка (2 балла)\n",
    "Пользователь вводит нечетное число n. Создайте двумерный массив из n×n элементов, заполнив его символами \".\" (каждый элемент массива является строкой из одного символа). Затем заполните символами \"*\" среднюю строку массива, средний столбец массива, главную диагональ и побочную диагональ. <br>\n",
    "В результате единицы в массиве должны образовывать изображение звездочки. Выведите полученный массив на экран, разделяя элементы массива пробелами.\n",
    "\n",
    "**Вход**<br>\n",
    "5<br>\n",
    "**Выход**<br>\n",
    "<pre class=\"output\">* . * . *\n",
    ". * * * .\n",
    "* * * * *\n",
    ". * * * .\n",
    "* . * . *</pre>\n",
    "\n",
    "**Вход**<br>\n",
    "3<br>\n",
    "**Выход**<br>\n",
    "<pre class=\"output\">* * *\n",
    "* * *\n",
    "* * *\n",
    "</pre>\n",
    "\n",
    "**Вход**<br>\n",
    "1<br>\n",
    "**Выход**<br>\n",
    "<pre class=\"output\">*\n",
    "</pre>"
   ]
  },
  {
   "cell_type": "code",
   "execution_count": 46,
   "metadata": {},
   "outputs": [
    {
     "name": "stdout",
     "output_type": "stream",
     "text": [
      "5\n",
      "* . * . *\n",
      ". * * * .\n",
      "* * * * *\n",
      ". * * * .\n",
      "* . * . *\n"
     ]
    }
   ],
   "source": [
    "# решение\n",
    "n = int(input())\n",
    "f,g = int(n-1),int((n-1)/2)\n",
    "a = [['.'] * g + ['*'] + ['.'] * g for i in range(n)]\n",
    "a[g] = ['*'] * n\n",
    "for i in range(n):\n",
    "    a[i][i] = '*'\n",
    "    a[f][i] = '*'\n",
    "    f -= 1\n",
    "for cikl in a:\n",
    "    print(' '.join([str(elem) for elem in cikl])) #как без этого обойтись я не смогла придумать (гуглила в интернете)"
   ]
  },
  {
   "cell_type": "code",
   "execution_count": 10,
   "metadata": {},
   "outputs": [
    {
     "name": "stdout",
     "output_type": "stream",
     "text": [
      "Insert integer: 5\n",
      "* . * . * \n",
      ". * * * . \n",
      "* * * * * \n",
      ". * * * . \n",
      "* . * . * \n"
     ]
    }
   ],
   "source": [
    "a = (int(input(\"Insert integer: \")))//2*2+1 \n",
    "\n",
    "m = [\".\"] * a \n",
    "for i in range(a): \n",
    "    m[i] = [\".\"] * a \n",
    "\n",
    "for i in range(len(m)): \n",
    "    m[i][(len(m)//2)] = \"*\" \n",
    "    m[(len(m)//2)][i] = \"*\" \n",
    "    m[i][i] = \"*\" \n",
    "    m[i][-i-1] = \"*\" \n",
    "\n",
    "for i in range(len(m)): \n",
    "    for j in range(len(m[i])): \n",
    "        print(m[i][j], end=' ') \n",
    "    print()"
   ]
  },
  {
   "cell_type": "markdown",
   "metadata": {},
   "source": [
    "### Задача 14 Транспонирование матрицы  (3 балла)\n",
    "Вам дается матрица в виде списка списков. Необходимо вывести на экран ее транспонированный вид.\n",
    "Задачу необходимо решить в общем виде, то есть ширина и длина матрицы неизвестны заранее.\n",
    "\n",
    "**Вход**<br>\n",
    "[[1, 1, 1], <br>\n",
    " [2, 2, 2], <br>\n",
    " [3, 3, 3], <br>\n",
    " [4, 4, 4]]  <br>\n",
    "**Выход**<br>\n",
    "[[1, 2, 3, 4], <br>\n",
    " [1, 2, 3, 4], <br>\n",
    " [1, 2, 3, 4]] <br>"
   ]
  },
  {
   "cell_type": "code",
   "execution_count": 44,
   "metadata": {},
   "outputs": [
    {
     "name": "stdout",
     "output_type": "stream",
     "text": [
      "Insert integer (str): 3\n",
      "Insert integer (number of rows): 4\n",
      "1 1 1 1 \n",
      "2 2 2 2 \n",
      "3 3 3 3 \n",
      "1 2 3 \n",
      "1 2 3 \n",
      "1 2 3 \n",
      "1 2 3 \n"
     ]
    }
   ],
   "source": [
    "# решение\n",
    "n = (int(input(\"Insert integer (str): \"))) \n",
    "m = (int(input(\"Insert integer (number of rows): \"))) \n",
    "a = [\".\"] * n \n",
    "for i in range(n): \n",
    "    a[i] = [i+1] * m \n",
    "\n",
    "for i in range(len(a)): \n",
    "    for j in range(len(a[i])): \n",
    "        print(a[i][j], end=' ') \n",
    "    print() \n",
    "\n",
    "b = [\".\"] * m \n",
    "for i in range(m): \n",
    "    b[i] = list(range(1,n+1)) \n",
    "\n",
    "for i in range(len(b)): \n",
    "    for j in range(len(b[i])): \n",
    "        print(b[i][j], end=' ') \n",
    "    print()"
   ]
  },
  {
   "cell_type": "code",
   "execution_count": 48,
   "metadata": {},
   "outputs": [
    {
     "name": "stdout",
     "output_type": "stream",
     "text": [
      "Insert integer (str): 3\n",
      "Insert integer (number of rows): 4\n",
      "1 1 1 1 \n",
      "2 2 2 2 \n",
      "3 3 3 3 \n",
      "1 2 3 \n",
      "1 2 3 \n",
      "1 2 3 \n",
      "1 2 3 \n",
      "[[1, 1, 1, 1], [2, 2, 2, 2], [3, 3, 3, 3]]\n",
      "[[1, 2, 3], [1, 2, 3], [1, 2, 3], [1, 2, 3]]\n"
     ]
    }
   ],
   "source": [
    "n = (int(input(\"Insert integer (str): \"))) \n",
    "m = (int(input(\"Insert integer (number of rows): \"))) \n",
    "a = [\".\"] * n \n",
    "for i in range(n): \n",
    "    a[i] = [i+1] * m \n",
    "\n",
    "for i in range(len(a)): \n",
    "    for j in range(len(a[i])): \n",
    "        print(a[i][j], end=' ') \n",
    "    print() \n",
    "\n",
    "b = [\".\"] * m \n",
    "for i in range(m): \n",
    "    b[i] = [\".\"] * n \n",
    "\n",
    "for x in range(m): \n",
    "    for y in range (n): \n",
    "        b[x][y] = a[y][x] \n",
    "\n",
    "for i in range(len(b)): \n",
    "    for j in range(len(b[i])): \n",
    "        print(b[i][j], end=' ') \n",
    "    print() \n",
    "\n",
    "print(a) \n",
    "print(b)"
   ]
  },
  {
   "cell_type": "markdown",
   "metadata": {},
   "source": [
    "### Задача 15  (1 балл)\n",
    "Пользователь задает число $n$. Необходимо вернуть словарь, где ключами бы являлись числа от -(n-1) до (n-1), а значения - квадраты этих чисел.\n",
    "\n",
    "**Ввод**<br>\n",
    "4<br>\n",
    "**Вывод**<br>\n",
    "{-3: 9, -2: 4, -1: 1, 0: 0, 1: 1, 2: 4, 3: 9}"
   ]
  },
  {
   "cell_type": "code",
   "execution_count": 19,
   "metadata": {},
   "outputs": [
    {
     "name": "stdout",
     "output_type": "stream",
     "text": [
      "Insert integer: 3\n",
      "{-2: 4, -1: 1, 0: 0, 1: 1, 2: 4}\n"
     ]
    }
   ],
   "source": [
    "# решение\n",
    "n = (int(input(\"Insert integer: \"))) \n",
    "qurt={-(n-1):-(n-1)**2}\n",
    "for i in range((n*2-2)+1): \n",
    "    qurt[-(n-i-1)] = (-(n-i-1))**2\n",
    "print (qurt)"
   ]
  },
  {
   "cell_type": "markdown",
   "metadata": {},
   "source": [
    "### Задача 16 Составление базы данных  (3 балла)\n",
    "1. Создайте словарь, где ключами являются имена (ваше и ваших 5 друзей), а значениями - возраст. Удалите один элемент словаря (себя). <br>\n",
    "P.s. работает та же функция, что и для списков <br>\n",
    "p.p.s del()\n",
    "2. Вычислите средний возраст ваших друзей.\n",
    "3. Создайте новый словарь, в котором все было бы наоборот: ключи - это возраст, а значения - имена.\n",
    "4. Имена всех ли друзей присутствуют в вашем новом словаре?"
   ]
  },
  {
   "cell_type": "code",
   "execution_count": 25,
   "metadata": {},
   "outputs": [],
   "source": [
    "friends = {\"Я\": 25, \"Никита\": 28, \"Саша\": 32, \"Александра\": 26, 'Ира': 24, \"Катя\": 31}"
   ]
  },
  {
   "cell_type": "code",
   "execution_count": 26,
   "metadata": {},
   "outputs": [],
   "source": [
    "del(friends['Я'])"
   ]
  },
  {
   "cell_type": "code",
   "execution_count": 27,
   "metadata": {},
   "outputs": [
    {
     "data": {
      "text/plain": [
       "{'Никита': 28, 'Саша': 32, 'Александра': 26, 'Ира': 24, 'Катя': 31}"
      ]
     },
     "execution_count": 27,
     "metadata": {},
     "output_type": "execute_result"
    }
   ],
   "source": [
    "friends"
   ]
  },
  {
   "cell_type": "code",
   "execution_count": 28,
   "metadata": {},
   "outputs": [
    {
     "data": {
      "text/plain": [
       "dict_keys(['Никита', 'Саша', 'Александра', 'Ира', 'Катя'])"
      ]
     },
     "execution_count": 28,
     "metadata": {},
     "output_type": "execute_result"
    }
   ],
   "source": [
    "friends.keys()"
   ]
  },
  {
   "cell_type": "code",
   "execution_count": 29,
   "metadata": {},
   "outputs": [
    {
     "data": {
      "text/plain": [
       "dict_values([28, 32, 26, 24, 31])"
      ]
     },
     "execution_count": 29,
     "metadata": {},
     "output_type": "execute_result"
    }
   ],
   "source": [
    "friends.values()"
   ]
  },
  {
   "cell_type": "code",
   "execution_count": 30,
   "metadata": {},
   "outputs": [
    {
     "name": "stdout",
     "output_type": "stream",
     "text": [
      "5\n"
     ]
    }
   ],
   "source": [
    "f= len(friends)\n",
    "print(f)"
   ]
  },
  {
   "cell_type": "code",
   "execution_count": 31,
   "metadata": {},
   "outputs": [
    {
     "name": "stdout",
     "output_type": "stream",
     "text": [
      "28.2\n"
     ]
    }
   ],
   "source": [
    "cr_vozrast= sum(friends.values())/f\n",
    "print(cr_vozrast)"
   ]
  },
  {
   "cell_type": "code",
   "execution_count": 32,
   "metadata": {},
   "outputs": [
    {
     "data": {
      "text/plain": [
       "{28: 'Никита', 32: 'Саша', 26: 'Александра', 24: 'Ира', 31: 'Катя'}"
      ]
     },
     "execution_count": 32,
     "metadata": {},
     "output_type": "execute_result"
    }
   ],
   "source": [
    "friends_2 = {}\n",
    "for k in friends:\n",
    "    friends_2[friends[k]] = k\n",
    "friends_2"
   ]
  },
  {
   "cell_type": "markdown",
   "metadata": {},
   "source": [
    "### Задача 17 Составление базы данных  (5 баллов)\n",
    "Вам предостоит обработать базу данных о продажах некоторого интернет-магазина. База данных представляет собой набор кортежей, в каждом кортеже три элемента: (Покупатель, товар, количество), где Покупатель — имя покупателя (строка без пробелов), товар — название товара (строка без пробелов), количество — количество приобретенных единиц товара.\n",
    "\n",
    "1. Создайте словарь, ключами которого являются имена покупателей, а значениями — словари, ключами которых являются названия товаров, а значениями — количество единиц этого товара, которые купил этот покупатель.\n",
    "2. А затем вычислите сколько всего товара купил Сидоров? А Иванов?\n",
    "3. Найдите всех кто купил ручки.\n",
    "4. Удалите переменную dataset.\n",
    "5. Найдите сколько всего товара было куплено.\n",
    "\n",
    "***Внимание!*** Конструкцией if else пользоваться нельзя! Подумайте, как обойти этот момент...\n",
    "\n",
    "***Подсказки:*** \n",
    "* Для выполнения первого пункта цикл придется запустить дважды.\n",
    "* Для выполнения последнего пункта вам потребуется создать еще один словарь.*"
   ]
  },
  {
   "cell_type": "code",
   "execution_count": 77,
   "metadata": {},
   "outputs": [],
   "source": [
    "dataset=((\"Иванов\",\"ручки\",2), \n",
    "(\"Петров\",\"ручки\",3), \n",
    "(\"Кулаков\",\"ручки\",6), \n",
    "(\"Петров\",\"маркеры\",7), \n",
    "(\"Кулаков\",\"маркеры\",8), \n",
    "(\"Миронов\",\"салфетки\",3), \n",
    "(\"Петров\",\"стикеры\",7), \n",
    "(\"Кулаков\",\"бумага\",345), \n",
    "(\"Миронов\",\"стикеры\",45), \n",
    "(\"Суконов\",\"ручки\",34), \n",
    "(\"Иванов\",\"конверты\",45))"
   ]
  },
  {
   "cell_type": "code",
   "execution_count": 78,
   "metadata": {},
   "outputs": [
    {
     "name": "stdout",
     "output_type": "stream",
     "text": [
      "{'Иванов': {'ручки': 2, 'конверты': 45}, 'Петров': {'ручки': 3, 'маркеры': 7, 'стикеры': 7}, 'Кулаков': {'ручки': 6, 'маркеры': 8, 'бумага': 345}, 'Миронов': {'салфетки': 3, 'стикеры': 45}, 'Суконов': {'ручки': 34}}\n",
      "Иванов купил: 47\n"
     ]
    }
   ],
   "source": [
    "slovar={}\n",
    "for (pok,tov,kol) in dataset:\n",
    "    slovar.update({pok:{}})\n",
    "for (pok,tov,kol) in dataset:\n",
    "    slovar[pok].update({tov:kol})    \n",
    "print(slovar)\n",
    "a=0\n",
    "for tov,kol in slovar['Иванов'].items():\n",
    "    a=a+kol\n",
    "print('Иванов купил:',a) "
   ]
  },
  {
   "cell_type": "code",
   "execution_count": 79,
   "metadata": {},
   "outputs": [
    {
     "name": "stdout",
     "output_type": "stream",
     "text": [
      "Те кто купили ручки: ['Иванов', 'Петров', 'Кулаков', 'Суконов']\n",
      "Всего куплено: 505\n"
     ]
    }
   ],
   "source": [
    "slovar_2={}\n",
    "for (pok,tov,kol) in dataset:\n",
    "    slovar_2.update({tov:[]})\n",
    "for (pok,tov,kol) in dataset:\n",
    "    slovar_2[tov].append(pok)\n",
    "print('Те кто купили ручки:', slovar_2['ручки'])\n",
    "del(dataset)\n",
    "vsego=0\n",
    "for pok,s in slovar.items():\n",
    "    for tov,kol in s.items():\n",
    "        vsego=vsego+kol\n",
    "print('Всего куплено:', vsego)"
   ]
  },
  {
   "cell_type": "markdown",
   "metadata": {},
   "source": [
    "### Задача 18 Перевод с эльфийского  (5 баллов)\n",
    "\n",
    "1. Переведите текст и выведите его на экран в виде строки (а не списка слов).\n",
    "2. Создайте словарь, где ключами являются слова, а значениям индекс места, где это слово встречается впервые в тексте.\n",
    "3. Восстановите текст по данному словарю, насколько это возможно: текст должен быть той же длины, что и исходный, на местах пропущенных слов должно стоять <потеряно>.\n",
    "4. Выведите текст на экран в виде строки.\n",
    "5. Сколько слов восстановить не удалось?"
   ]
  },
  {
   "cell_type": "code",
   "execution_count": 81,
   "metadata": {},
   "outputs": [],
   "source": [
    "text_sindarin = ['Ilu,', 'varta', 'inye,', 'ruc-', 'sina', 'ana,', 'nen', 'ruc-', 'ana,', 'Arda', 'ana,', 'vista,',\n",
    " 'limbe', 'et', 'ma', 'na-', 'auta-', 'a,', 'ava', 'er-', 'man', 'nan', 'os', 'sina', 'ilquen', 'horya', 'et',\n",
    " 'alta', 'corma', 'nelde', 'na-', 'elda', 'ilfirin', 'onna', 'ngola,', 'a,', 'faila', 'et', 'ilquen', 'mar-,',\n",
    " 'otso', 'dancil', 'norno,', 'alta', 'farea', 'a,', 'curuvar', 'oron', 'felya,', 'nerte', 'nerte', 'corma', 'na-',\n",
    " 'firya', 'qwanur', 'ya', 'ilqua', 'here', 'ana,', 'sina', 'corma', 'na-', 'tuo', 'here', 'or', 'ilya', 'et',\n",
    " 'lie', 'ananta', 'ilquen', 'toi,', 'gweria', 'nan', 'ma', 'na-', 'yando', 'er,', 'corma', 'ana,', 'nore',\n",
    " 'mordor', 'ana,', 'sa,', 'oron', 'morna', 'harya-', 'sauron', 'lomba', 'er', 'corma', 'ilquen', 'nan', 'a,',\n",
    " 'ana,', 'sina', 'corma', 'se', 'ilquen', 'alica', 'ilquen', 'umea', 'a,', 'ilquen', 'here', 'or', 'ilquen',\n",
    " 'mar-,', 'er,', 'corma', 'tur-', 'ilquen']"
   ]
  },
  {
   "cell_type": "code",
   "execution_count": 82,
   "metadata": {},
   "outputs": [],
   "source": [
    "dictionary_from_sindarin = {'Arda': 'земля', 'Ilu,': 'мир', 'a,': 'и', 'alica': 'жестокость', 'alta': 'великое',\n",
    " 'ana,': 'в', 'ananta': 'но', 'auta-': 'уйти', 'ava': 'не', 'corma': 'кольцо', 'curuvar': 'мастеровой',\n",
    " 'dancil': 'повелитель', 'elda': 'эльф', 'er': 'единый', 'er,': 'один', 'er-': 'остаться', 'et': 'с',\n",
    " 'faila': 'справедливый', 'farea': 'добытчик', 'felya,': 'пещера', 'firya': 'человеческий', 'gweria': 'обмануть',\n",
    " 'harya-': 'властелин', 'here': 'власть', 'horya': 'начаться', 'ilfirin': 'бессмертный', 'ilqua': 'всего',\n",
    " 'ilquen': 'весь', 'ilya': 'каждый', 'inye,': 'я', 'lie': 'народ', 'limbe': 'многий', 'lomba': 'тайно',\n",
    " 'ma': 'что', 'man': 'кто', 'mar-,': 'жить', 'mordor': 'мордора', 'morna': 'тёмный', 'na-': 'быть',\n",
    " 'nan': 'другой', 'nelde': 'три', 'nen': 'вода', 'nerte': 'девять', 'ngola,': 'мудрый', 'nore': 'страна',\n",
    " 'norno,': 'гном', 'onna': 'создание', 'or': 'над', 'oron': 'гора', 'os': 'о', 'otso': 'семь', 'qwanur': 'род',\n",
    " 'ruc-': 'чувствовать', 'sa,': 'огонь', 'sauron': 'саурон', 'se': 'он', 'sina': 'этот', 'toi,': 'они',\n",
    " 'tuo': 'сила', 'tur-': 'править', 'umea': 'злоба', 'varta': 'измениться', 'vista,': 'воздух', 'ya': 'который',\n",
    " 'yando': 'ещё'}"
   ]
  },
  {
   "cell_type": "code",
   "execution_count": 86,
   "metadata": {},
   "outputs": [
    {
     "name": "stdout",
     "output_type": "stream",
     "text": [
      "мир измениться я чувствовать этот в вода чувствовать в земля в воздух многий с что быть уйти и не остаться кто другой о этот весь начаться с великое кольцо три быть эльф бессмертный создание мудрый и справедливый с весь жить семь повелитель гном великое добытчик и мастеровой гора пещера девять девять кольцо быть человеческий род который всего власть в этот кольцо быть сила власть над каждый с народ но весь они обмануть другой что быть ещё один кольцо в страна мордора в огонь гора тёмный властелин саурон тайно единый кольцо весь другой и в этот кольцо он весь жестокость весь злоба и весь власть над весь жить один кольцо править весь "
     ]
    }
   ],
   "source": [
    "N=[]\n",
    "for i in text_sindarin:\n",
    "    N.append(dictionary_from_sindarin[i])\n",
    "for i in N:\n",
    "    print(i,end=' ')\n"
   ]
  },
  {
   "cell_type": "code",
   "execution_count": 89,
   "metadata": {},
   "outputs": [
    {
     "name": "stdout",
     "output_type": "stream",
     "text": [
      "\n",
      "{'весь': 24, 'править': 109, 'кольцо': 28, 'один': 76, 'жить': 39, 'над': 64, 'власть': 57, 'и': 17, 'злоба': 100, 'жестокость': 98, 'он': 96, 'этот': 4, 'в': 5, 'другой': 21, 'единый': 88, 'тайно': 87, 'саурон': 86, 'властелин': 85, 'тёмный': 84, 'гора': 47, 'огонь': 82, 'мордора': 80, 'страна': 79, 'ещё': 75, 'быть': 15, 'что': 14, 'обмануть': 71, 'они': 70, 'но': 68, 'народ': 67, 'с': 13, 'каждый': 65, 'сила': 62, 'всего': 56, 'который': 55, 'род': 54, 'человеческий': 53, 'девять': 49, 'пещера': 48, 'мастеровой': 46, 'добытчик': 44, 'великое': 27, 'гном': 42, 'повелитель': 41, 'семь': 40, 'справедливый': 36, 'мудрый': 34, 'создание': 33, 'бессмертный': 32, 'эльф': 31, 'три': 29, 'начаться': 25, 'о': 22, 'кто': 20, 'остаться': 19, 'не': 18, 'уйти': 16, 'многий': 12, 'воздух': 11, 'земля': 9, 'чувствовать': 3, 'вода': 6, 'я': 2, 'измениться': 1, 'мир': 0}\n"
     ]
    }
   ],
   "source": [
    "# решение\n",
    "print()\n",
    "dic={}\n",
    "for i in range(1,len(N)+1):\n",
    "    dic.update({N[-i]:len(N)-i})\n",
    "print(dic)"
   ]
  },
  {
   "cell_type": "code",
   "execution_count": null,
   "metadata": {},
   "outputs": [],
   "source": [
    "#с потерянным как решить не знаю"
   ]
  },
  {
   "cell_type": "markdown",
   "metadata": {},
   "source": [
    "## Обратная связь"
   ]
  },
  {
   "cell_type": "markdown",
   "metadata": {},
   "source": [
    "Пожалуйста, пройдите [анкету](https://goo.gl/forms/IeIO2lVd9iY7GN4v2) и оставьте свои впечатления от домашней работы / лекции. Мы очень хотим стать для вас лучше)))"
   ]
  }
 ],
 "metadata": {
  "kernelspec": {
   "display_name": "Python 3",
   "language": "python",
   "name": "python3"
  },
  "language_info": {
   "codemirror_mode": {
    "name": "ipython",
    "version": 3
   },
   "file_extension": ".py",
   "mimetype": "text/x-python",
   "name": "python",
   "nbconvert_exporter": "python",
   "pygments_lexer": "ipython3",
   "version": "3.7.0"
  }
 },
 "nbformat": 4,
 "nbformat_minor": 2
}
