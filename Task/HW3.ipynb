{
 "cells": [
  {
   "cell_type": "markdown",
   "metadata": {},
   "source": [
    "## Домашнее задание №3"
   ]
  },
  {
   "cell_type": "markdown",
   "metadata": {},
   "source": [
    "*Составлено с использованием материалов курса лекций «Программирование на языке Python для сбора и анализа данных» Щурова И.В., НИУ ВШЭ*"
   ]
  },
  {
   "cell_type": "markdown",
   "metadata": {},
   "source": [
    "***В сумме за домашнюю работу вы можете получить 18 баллов.*** <br> \n",
    "***Итоговая оценка будет равна доле полученных баллов от общей суммы x10.*** \n",
    "<p>\n",
    "<font size='3' color=\"B3000C\">Ноутбук (файл в расширением .ipynb) выложите на свой git и пришлите ссылку на почту python.in.miigaik@gmail.com.<br> В теме письма укажите номер домашней работы и номер группы: HW... , Group... .</font>\n",
    "</p>"
   ]
  },
  {
   "cell_type": "markdown",
   "metadata": {},
   "source": [
    "### Задача 1 Сортировка (1 балл)\n",
    "На вход поступает список из вещественных чисел. Отсортировать его по возрастанию, элементы в отсортированном списке должны иметь 3 знака после запятой.\n",
    "<br> **Входные данные**: [1.0,-2.0,3.0].<br> **Выходные данные**: [-2.000,1.000,3.000]"
   ]
  },
  {
   "cell_type": "code",
   "execution_count": 6,
   "metadata": {},
   "outputs": [
    {
     "ename": "IndentationError",
     "evalue": "unindent does not match any outer indentation level (<ipython-input-6-a88f389b8384>, line 8)",
     "output_type": "error",
     "traceback": [
      "\u001b[1;36m  File \u001b[1;32m\"<ipython-input-6-a88f389b8384>\"\u001b[1;36m, line \u001b[1;32m8\u001b[0m\n\u001b[1;33m    new_a[i]='%.3f' %a[i]\u001b[0m\n\u001b[1;37m                         ^\u001b[0m\n\u001b[1;31mIndentationError\u001b[0m\u001b[1;31m:\u001b[0m unindent does not match any outer indentation level\n"
     ]
    }
   ],
   "source": [
    "#решение\n",
    "a=[int(input())]\n",
    "a = sorted(a)\n",
    "new_a=[]\n",
    "k=len(a)\n",
    "for i in k: \n",
    "    i=int(i)\n",
    "   new_a[i]='%.3f' %a[i]\n",
    "print(new_a)"
   ]
  },
  {
   "cell_type": "code",
   "execution_count": 35,
   "metadata": {},
   "outputs": [
    {
     "name": "stdout",
     "output_type": "stream",
     "text": [
      "Введите список вещественных чисел 1.0,-2.0,3.0\n",
      "[1.0, -2.0, 3.0]\n",
      "[-2.0, 1.0, 3.0]\n",
      "-2.000,1.000,3.000,"
     ]
    }
   ],
   "source": [
    "a = input('Введите список вещественных чисел ')\n",
    "a=a.split(',')\n",
    "b=[]\n",
    "for i in a:\n",
    "    b.append(float(i))\n",
    "print(b)\n",
    "b= sorted(b)\n",
    "print(b)\n",
    "for i in b:\n",
    "    print('%.3f' %i, end=',')"
   ]
  },
  {
   "cell_type": "markdown",
   "metadata": {},
   "source": [
    "### Задача 2 Средний символ (1 балл)\n",
    "На вход поступает строка. Ваша задача - вернуть средний символ строки. Если длина строки нечетна, верните средний символ. Если длина строки четная, верните средние 2 символа.\n",
    "<br> **Входные данные** : \"test\". **Выходные данные**: \"es\"\n",
    "<br> **Входные данные** : \"sunsets\". **Выходные данные**: \"s\""
   ]
  },
  {
   "cell_type": "code",
   "execution_count": 41,
   "metadata": {},
   "outputs": [
    {
     "name": "stdout",
     "output_type": "stream",
     "text": [
      "Введите слово sunsets\n",
      "Средний символ: s\n"
     ]
    }
   ],
   "source": [
    "#решение\n",
    "text=input('Введите слово ')\n",
    "if len(text) % 2 == 0:\n",
    "    dlina = len(text)//2\n",
    "    ser = text[dlina-1:dlina+1]\n",
    "    print(\"Средний символ\", ser)\n",
    "else:\n",
    "    dlina = len(text)\n",
    "    ser = dlina // 2\n",
    "    print (\"Средний символ:\", text[ser])"
   ]
  },
  {
   "cell_type": "markdown",
   "metadata": {},
   "source": [
    "### Задача 3 Еще одна задача со строками (1 балл)\n",
    "На вход подается предложение из слов. Ваша задача вернуть тоже самое предложение, в котором все слова длины больше 5 записаны в обратном порядке.\n",
    "<br> **Входные данные** : \"Hey fellow warriors\". **Выходные данные**: \"Hey wollef sroirraw\" \n",
    "<br> **Входные данные** : \"This is a test\". **Выходные данные**: \"This is a test\""
   ]
  },
  {
   "cell_type": "code",
   "execution_count": 43,
   "metadata": {},
   "outputs": [
    {
     "name": "stdout",
     "output_type": "stream",
     "text": [
      "Введите предложение: Hey fellow warriors\n",
      "Hey wollef sroirraw\n"
     ]
    }
   ],
   "source": [
    "#решение\n",
    "pred=input('Введите предложение: ')\n",
    "spis=[]\n",
    "pred2 = pred.split()\n",
    "for i in pred2:\n",
    "    if len(i)>5:\n",
    "        spis.append(i[::-1])\n",
    "    else:\n",
    "        spis.append(i)\n",
    "print(*spis)"
   ]
  },
  {
   "cell_type": "markdown",
   "metadata": {},
   "source": [
    "### Задача 4 ДНК (1 балл)\n",
    "На вход подается строка \"ДНК\". Ваша цель построить комплиментарную цепь к этой ДНК. Материал для [справки](https://bit.ly/2gyHYCV), как меняются отдельные азотистые основания.\n",
    "<br> **Входные данные**: \"ATTGC\". **Выходные данные**:\"TAACG\"\n",
    "<br> **Входные данные**: \"GTAT\". **Выходные данные**:\"CATA\""
   ]
  },
  {
   "cell_type": "code",
   "execution_count": 45,
   "metadata": {},
   "outputs": [
    {
     "name": "stdout",
     "output_type": "stream",
     "text": [
      "ATTGC\n",
      "TAACG\n"
     ]
    }
   ],
   "source": [
    "#решение\n",
    "zamena={'A':'T', 'T':'A', 'G':'C', 'C':'G'}\n",
    "dnk=input()\n",
    "preobraz=''\n",
    "for i in dnk:\n",
    "    preobraz=preobraz+zamena[i]\n",
    "print(preobraz)"
   ]
  },
  {
   "cell_type": "code",
   "execution_count": null,
   "metadata": {},
   "outputs": [],
   "source": [
    " # Т-А (тимин-аденин) , Г-Ц (гуанин-цитозин)"
   ]
  },
  {
   "cell_type": "markdown",
   "metadata": {},
   "source": [
    "### Задача 5 Танцевальная музыка (1 балл)\n",
    "В клубной музыке принято использовать различные звуковые эффекты. Ваша цель очистить строку от музыкального эффекта \"BOOM\".\n",
    "<br> **Входные данные**: \"BOOMWEBOOMAREBOOMBOOMTHEBOOMCHAMPIONSBOOMMYBOOMFRIENDBOOM\". **Выходные данные**:\"WE ARE THE CHAMPIONS MY FRIEND\""
   ]
  },
  {
   "cell_type": "code",
   "execution_count": 68,
   "metadata": {},
   "outputs": [
    {
     "name": "stdout",
     "output_type": "stream",
     "text": [
      "WE ARE  THE CHAMPIONS MY FRIEND\n"
     ]
    }
   ],
   "source": [
    "#решение\n",
    "s=\"BOOMWEBOOMAREBOOMBOOMTHEBOOMCHAMPIONSBOOMMYBOOMFRIENDBOOM\"\n",
    "new_s=s.split(\"BOOM\")\n",
    "print(' '.join(new_s).strip())\n",
    "#не смогла избавиться от лишнего пробела между словами"
   ]
  },
  {
   "cell_type": "markdown",
   "metadata": {},
   "source": [
    "### Задача 6 Если бы мне платили каждый раз (3 балла)\n",
    "Вам дан текст. Необходимо вычислить сколько раз встречается каждое слово в тексте, сколько различных слов было в тексте и сколько всего было слов. Затем замените количество появлений слова в тексте, на его частоту (количество встреч / общее количество слов в тексте). Найдите top 10 самых часто встречающихся слов длины > 3 и выпишите их.\n",
    "\n",
    "** Ввод ** <br>\n",
    "['my', 'world', 'my', 'rules']<br>\n",
    "** Вывод**<br>\n",
    "{'my':2, 'world':1, 'rules':1}<br>\n",
    "Различных слов - 3, всего слов - 4.<br>\n",
    "{'my':0.5, 'world':0.25, 'rules':0.25}<br> "
   ]
  },
  {
   "cell_type": "code",
   "execution_count": 19,
   "metadata": {
    "collapsed": true
   },
   "outputs": [],
   "source": [
    "text = '''\n",
    "Если б мне платили каждый раз\n",
    "Каждый раз, когда я думаю о тебе\n",
    "Я бы бомжевала возле трасс\n",
    "Я бы стала самой бедной из людей\n",
    "Если б мне платили каждый раз\n",
    "Каждый раз, когда я думаю о тебе\n",
    "Я бы бомжевала возле трасс\n",
    "Я бы стала самой бедной из людей\n",
    "\n",
    "«Где ты, когда ты не онлайн, когда я жду тебя в сети?\n",
    "В какие ссылки перейти, чтоб просто оказаться там?\n",
    "О чём ты думаешь сейчас? Давай среди берёз густых\n",
    "Читать любимый твой рассказ — страничку я, страничку ты\n",
    "Или в гости и просто чаю, и сердцами WhatsApp закидан»\n",
    "Но я снова не отвечаю. Я инкогнито — инкогнида\n",
    "Но если б мне платили, милый, каждый раз, когда взгляд твой дымный\n",
    "Мне мерещится где-то мимо, каждый раз, когда снишься ты мне\n",
    "\n",
    "Если б мне платили каждый раз\n",
    "Каждый раз, когда я думаю о тебе\n",
    "Я бы бомжевала возле трасс\n",
    "Я бы стала самой бедной из людей\n",
    "Если б мне платили каждый раз\n",
    "Каждый раз, когда я думаю о тебе\n",
    "Я бы бомжевала возле трасс\n",
    "Я бы стала самой бедной из людей\n",
    "\n",
    "Старая конфорка плещет нам, на двоих одна заварка\n",
    "За окном темно, в окне трещина, лампочка-луна над парком\n",
    "Я опять кручу на пальце прядь, пахну, как мамины духи\n",
    "Ты хочешь меня снять-снять-снять, а я хочу писать стихи-стихи\n",
    "\n",
    "Уезжай, чай не допивай. Снег или дождь там — уходи\n",
    "Пусть хоть всего переморосит, пусть хоть торнадо унесёт вдаль\n",
    "Может, есть ещё твой трамвай? Может, нет? Всё равно иди\n",
    "Там промозглый седой февраль — он теперь, как и ты, один\n",
    "И тебя не жаль, не жаль, не жаль. Хоть слоу-мо в дыме сигарет\n",
    "Даже в миноре и под рояль, даже под грустную скрипку - нет\n",
    "Если б ты не любил стихи, превратилась бы в звонкий ямб\n",
    "Если б был наркотою ты, фитоняшкой бы стала я\n",
    "\n",
    "Если б мне платили каждый раз\n",
    "Каждый раз, когда я думаю о тебе\n",
    "Я бы бомжевала возле трасс\n",
    "Я бы стала самой бедной из людей\n",
    "Если б мне платили каждый раз\n",
    "Каждый раз, когда я думаю о тебе\n",
    "Я бы бомжевала возле трасс\n",
    "Я бы стала самой бедной из людей'''"
   ]
  },
  {
   "cell_type": "code",
   "execution_count": null,
   "metadata": {},
   "outputs": [],
   "source": [
    "Если б мне платили каждый раз\n",
    "Каждый раз, когда я думаю о тебе\n",
    "Я бы бомжевала возле трасс\n",
    "Я бы стала самой бедной из людей\n",
    "Если б мне платили каждый раз\n",
    "Каждый раз, когда я думаю о тебе\n",
    "Я бы бомжевала возле трасс\n",
    "Я бы стала самой бедной из людей"
   ]
  },
  {
   "cell_type": "code",
   "execution_count": 59,
   "metadata": {},
   "outputs": [
    {
     "name": "stdout",
     "output_type": "stream",
     "text": [
      "Введите текст:Если б мне платили каждый раз Каждый раз, когда я думаю о тебе Я бы бомжевала возле трасс Я бы стала самой бедной из людей Если б мне платили каждый раз Каждый раз, когда я думаю о тебе Я бы бомжевала возле трасс Я бы стала самой бедной из людей\n",
      "{'если': 2, 'б': 2, 'мне': 2, 'платили': 2, 'каждый': 4, 'раз': 4, 'когда': 2, 'я': 6, 'думаю': 2, 'о': 2, 'тебе': 2, 'бы': 4, 'бомжевала': 2, 'возле': 2, 'трасс': 2, 'стала': 2, 'самой': 2, 'бедной': 2, 'из': 2, 'людей': 2}\n",
      "Различных слов - 20 всего слов - 50\n"
     ]
    }
   ],
   "source": [
    "text = input('Введите текст:') \n",
    "text=text.lower()\n",
    "zamena=[',','?','»','«','—']\n",
    "for i in zamena:\n",
    "    text=text.replace(i,'')\n",
    "kolich={}\n",
    "for j in text.split():\n",
    "    kolich.update({j:0})\n",
    "for j in text.split():\n",
    "    kolich[j]=kolich[j]+1\n",
    "summa=len(text.split())\n",
    "\n",
    "print(kolich)\n",
    "print('Различных слов -',len(kolich),'всего слов -',summa)"
   ]
  },
  {
   "cell_type": "code",
   "execution_count": 60,
   "metadata": {},
   "outputs": [
    {
     "name": "stdout",
     "output_type": "stream",
     "text": [
      "{если : 0.040, б : 0.040, мне : 0.040, платили : 0.040, каждый : 0.080, раз : 0.080, когда : 0.040, я : 0.120, думаю : 0.040, о : 0.040, тебе : 0.040, бы : 0.080, бомжевала : 0.040, возле : 0.040, трасс : 0.040, стала : 0.040, самой : 0.040, бедной : 0.040, из : 0.040, людей : 0.040, }"
     ]
    }
   ],
   "source": [
    "kl={}\n",
    "for k,v in kolich.items():\n",
    "    kl.update({k:v/summa})\n",
    "\n",
    "print('{',end='')\n",
    "for k,z in kl.items():\n",
    "    print(k,':',\"%.3f\" % z, end=', ')\n",
    "print('}',end='')"
   ]
  },
  {
   "cell_type": "markdown",
   "metadata": {},
   "source": [
    "### Задача 7 Последовательные строки (3 балла)\n",
    "На вход подается список, состоящий из строк, и целое число $k$. Ваша цель вывести на экран первую встретившуюся самую длинную строку, состоящую из k последовательных элементов списка. Если $k<0$, список пуст или $k >$ длины списка вывести пустую строку.\n",
    "<br>**Входные данные**:list = [\"cat\",\"city\",\"exception\",\"dog\",\"exception\",\"kick\"], $k = 2$. **Выходные данные**: \"cityexception\""
   ]
  },
  {
   "cell_type": "code",
   "execution_count": 63,
   "metadata": {},
   "outputs": [
    {
     "name": "stdout",
     "output_type": "stream",
     "text": [
      "Введите текст: cat city exception dog exception kick\n",
      "целое число k= 2\n",
      "cityexception\n"
     ]
    }
   ],
   "source": [
    "#решение\n",
    "text=input(\"Введите текст: \")\n",
    "text=text.split(' ')\n",
    "k=int(input('целое число k= '))\n",
    "if k<0 or k>len(text):\n",
    "    print()\n",
    "else:\n",
    "    a=0\n",
    "    b=0\n",
    "    for i in range(0,len(text)-k+1):\n",
    "        f=\"\".join(text[i:k+i])\n",
    "        if len(f)>b:\n",
    "            a=i\n",
    "            b=len(f)\n",
    "    print(\"\".join(text[a:k+a]))"
   ]
  },
  {
   "cell_type": "markdown",
   "metadata": {},
   "source": [
    "### Задача 8 Смайлики (1 балла)\n",
    "На вход подается список из смайликов. Правильные смайлики имеют следующую структуру: глаза это \":\" или \";\", нос - \"\", \"-\" или \"~\", улыбка - \")\" или \"D\". Ваша цель посчитать количество таких смайликов в списке. Пример правильных смайликов: \":-D\", \":)\", \";-D\" ,\":~D\". \n",
    "    <br> **Входные данные**: [':)', ';(', ';}', ':-D']. **Выходные данные**: 2"
   ]
  },
  {
   "cell_type": "code",
   "execution_count": 21,
   "metadata": {
    "collapsed": true
   },
   "outputs": [],
   "source": [
    "#решение\n",
    "# не смогла придумать решение "
   ]
  },
  {
   "cell_type": "markdown",
   "metadata": {},
   "source": [
    "### Задача 9 \"+1\" (5 баллов)\n",
    "На вход подается строка. Если строка оканчивается на какое-то число, то ваша цель увеличить число на 1. В противном случае дописать 1 в конец строки.\n",
    "<br>**Входные данные**: python. **Выходные данные**: python1.\n",
    "<br>**Входные данные**: python23. **Выходные данные**: python24.\n",
    "<br>**Входные данные**: python099. **Выходные данные**: python100.\n",
    "<br>**Входные данные**: python0042. **Выходные данные**: python0043."
   ]
  },
  {
   "cell_type": "code",
   "execution_count": 65,
   "metadata": {},
   "outputs": [
    {
     "name": "stdout",
     "output_type": "stream",
     "text": [
      "python23\n",
      "python24\n"
     ]
    }
   ],
   "source": [
    "#решение\n",
    "text=input()\n",
    "text_help = \"abcdefghijklmnopqrstuvwxyz\"\n",
    "text_help2 = \"абвгдеёжзийклмнопрстуфхцчшщъыьэюя\"\n",
    "numbers='0123456789'\n",
    "if text[-1] in text_help or text[-1] in text_help2:\n",
    "    text=text+'1'\n",
    "else:\n",
    "    k=0\n",
    "    for i in text[::-1]:\n",
    "        if i in numbers:\n",
    "            k=k+1\n",
    "        else:\n",
    "            break\n",
    "    text=text[:-k]+str(int(text[-k:])+1)        \n",
    "print(text)"
   ]
  },
  {
   "cell_type": "markdown",
   "metadata": {},
   "source": [
    "### Задача 10 \"Волна\" (1 балл)\n",
    "На вход подается строка. Ваша цель вывести список, в котором буквы в элементах этого списка будет напоминать волну на стадионе, то есть на i позиции буква будет в верхнем регистре.\n",
    "<br>**Входные данные**: \"python\" **Выходные данные**: [\"Python\",\"pYthon\",\"pyThon\",\"pytHon\",\"pythOn\",\"pythoN\"]\n",
    "*Подсказка*: прочитайте про методы upper() и lower() для строк."
   ]
  },
  {
   "cell_type": "code",
   "execution_count": 70,
   "metadata": {},
   "outputs": [
    {
     "name": "stdout",
     "output_type": "stream",
     "text": [
      "python\n",
      "['Python', 'pYthon', 'pyThon', 'pytHon', 'pythOn', 'pythoN']\n"
     ]
    }
   ],
   "source": [
    "#решение\n",
    "wxod=input()\n",
    "wolna=[]\n",
    "for i in range(0,len(wxod)):\n",
    "    wolna.append(wxod[:i]+wxod[i].upper()+wxod[i+1:])\n",
    "print(wolna)"
   ]
  }
 ],
 "metadata": {
  "kernelspec": {
   "display_name": "Python 3",
   "language": "python",
   "name": "python3"
  },
  "language_info": {
   "codemirror_mode": {
    "name": "ipython",
    "version": 3
   },
   "file_extension": ".py",
   "mimetype": "text/x-python",
   "name": "python",
   "nbconvert_exporter": "python",
   "pygments_lexer": "ipython3",
   "version": "3.7.0"
  }
 },
 "nbformat": 4,
 "nbformat_minor": 2
}
