{
 "cells": [
  {
   "cell_type": "markdown",
   "metadata": {},
   "source": [
    "## Домашняя работа 4"
   ]
  },
  {
   "cell_type": "markdown",
   "metadata": {},
   "source": [
    "***В сумме за домашнюю работу вы можете получить 17 баллов.*** <br> \n",
    "***Итоговая оценка будет равна доле полученных баллов от общей суммы x10.*** \n",
    "<p>\n",
    "<font size='3' color=\"B3000C\">Ноутбук (файл в расширением .ipynb) выложите на свой git и пришлите ссылку на почту python.in.miigaik@gmail.com.<br> В теме письма укажите номер домашней работы и номер группы: HW... , Group... .</font>\n",
    "</p>"
   ]
  },
  {
   "cell_type": "markdown",
   "metadata": {},
   "source": [
    "### Задача 1 «Длина отрезка»   (1 балл)\n",
    "Пользователь с клавиатуры вводит четыре действительных числа: x1, y1, x2, y2. Напишите функцию distance(x1, y1, x2, y2), вычисляющая расстояние между точкой (x1,y1) и (x2,y2). \n",
    "<img src=\"http://www.codecogs.com/gif.latex?d=\\sqrt{(x_2-x_1)^2+(y_2-y_1)^2}\">"
   ]
  },
  {
   "cell_type": "code",
   "execution_count": 10,
   "metadata": {},
   "outputs": [
    {
     "name": "stdout",
     "output_type": "stream",
     "text": [
      "x1=-5\n",
      "y1=6\n",
      "x2=10\n",
      "y2=12\n",
      "x1= -5 y1= 6 x2= 10 y2= 12 дистанция= 16.15549442140351\n"
     ]
    }
   ],
   "source": [
    "# решение\n",
    "def distance( x1, y1, x2, y2):\n",
    "    d=(((x2-x1)**2)+((y2-y1)**2))**0.5\n",
    "    print(\"x1=\", x1, 'y1=', y1, 'x2=', x2, 'y2=', y2, 'дистанция=', d)\n",
    "distance( x1=int(input('x1=')), y1=int(input('y1=')), x2=int(input(\"x2=\")), y2=int(input('y2=')))"
   ]
  },
  {
   "cell_type": "markdown",
   "metadata": {},
   "source": [
    "### Задача 2 (2 балла)\n",
    "Вам дается два списка строк. Будем рассматривать следующие разности:  $$|len(a) - len(b)|,$$ где a - элемент из первого списка, а b - из второго. <br>\n",
    "Напишите функцию, которая возвращает наибольшую такую разность.\n",
    "На вход такой функции подается два списка строк.\n",
    "\n",
    "** Подсказка **\n",
    "abs() - функция нахождения модуля."
   ]
  },
  {
   "cell_type": "code",
   "execution_count": 11,
   "metadata": {},
   "outputs": [],
   "source": [
    "first_list = ['Ночь', 'улица', 'фонарь', 'аптека', 'Бессмысленный', 'и', 'тусклый', 'свет']\n",
    "second_list = ['Живи', 'еще', 'хоть', 'четверть', 'века', 'Все', 'будет', 'так', 'Исхода', 'нет']"
   ]
  },
  {
   "cell_type": "code",
   "execution_count": 39,
   "metadata": {},
   "outputs": [
    {
     "name": "stdout",
     "output_type": "stream",
     "text": [
      "ночь улица фонарь аптека бессмысленный и тусклый свет\n",
      "живи еще хоть четверть века все будет так исхода нет\n",
      "10\n"
     ]
    }
   ],
   "source": [
    "# решение\n",
    "def raznost(first_list, second_list):\n",
    "    list3=[] #длины слов первого списка \n",
    "    list4=[] #длины слов второго списка\n",
    "    h=len(second_list)\n",
    "    g=len(first_list)\n",
    "    for i in range(h):\n",
    "        a=len(second_list[i])\n",
    "        list3.append(a)\n",
    "    for k in range(g):\n",
    "        a=len(first_list[k])\n",
    "        list4.append(a)\n",
    "    for j in first_list:\n",
    "        b=len(j)\n",
    "    for i in range(h):\n",
    "        c= b-list3[i]\n",
    "        list5.append(c)\n",
    "    list6=[]\n",
    "    for i in range(len(list5)):\n",
    "        t=abs(list5[i])\n",
    "        list6.append(t)\n",
    "    print(max(list6))\n",
    "raznost(first_list=input(),second_list=input())"
   ]
  },
  {
   "cell_type": "markdown",
   "metadata": {},
   "source": [
    "### Задача 3 (1 балл)\n",
    "Вам дается строка в которой присутвуют подряд идущие одинаковые символы. Напишите функцию, которая принимает строку и возвращает ее в \"нормальном\" виде: то есть из подряд идущих одинаковых символов оставляет только один.\n",
    "\n",
    "**Пример **<br>\n",
    "'Привеееееееет!!! Я тттвоя новаяяя стррока)))))' -> 'Привет! Я твоя новая строка)'\n"
   ]
  },
  {
   "cell_type": "code",
   "execution_count": 24,
   "metadata": {},
   "outputs": [
    {
     "name": "stdout",
     "output_type": "stream",
     "text": [
      "Привеееееееет!!! Я тттвоя новаяяя стррока)))))\n",
      "Привет! Я твоя новая строка)\n"
     ]
    }
   ],
   "source": [
    "# решение\n",
    "def stroka(s):\n",
    "    s.split() \n",
    "    list_bukv=[]\n",
    "    for word in s:\n",
    "        list_bukv.append(word)\n",
    "    y=len(list_bukv)\n",
    "    list_bukv.append(' ')\n",
    "    list_bukv2=[]\n",
    "    list_bukv3=[]\n",
    "    for i in range(len(list_bukv)-1):\n",
    "        if list_bukv[i] == list_bukv[i+1]:\n",
    "            list_bukv3.append(list_bukv[i])\n",
    "        else:\n",
    "            list_bukv2.append(list_bukv[i])\n",
    "    print(\"\".join(list_bukv2))\n",
    "stroka(s=input())"
   ]
  },
  {
   "cell_type": "code",
   "execution_count": null,
   "metadata": {},
   "outputs": [],
   "source": [
    "# нужна подсказка как обойти такие вещи как например слово \"территория\", где должно быть две \"р\""
   ]
  },
  {
   "cell_type": "markdown",
   "metadata": {},
   "source": [
    "### Задача 4 (1 балл)\n",
    "Напишите функцию, на вход которой подается строка и которая должна вернуть строку - часть алфавита, в которой буква будет заглавной, если ее не было в строке,  и маленькой, если она была в строке. При этом нужно вывести ту часть алфавита, которая начинается с первого символа присутствующего в строке и заканчивается также символом присутствующем в строке.\n",
    "\n",
    "** Подсказка**<br>\n",
    "Чтобы не писать алфавиты вручную, воспользуйтесь функциями ord() и chr()? кторые по заданным символам или номерам, соответственно, выводят символ или его номер.<br>\n",
    "ord('a') == 97, chr(97) == 'a'\n",
    "\n",
    "**Пример**<br>\n",
    "***Вход***<br>\n",
    "\"holly\"<br>\n",
    "***Выход***<br>\n",
    "\"hIJKMNPQRSTUVWXZoPQRSTUVWXZlMNPQRSTUVWXZly\""
   ]
  },
  {
   "cell_type": "code",
   "execution_count": 24,
   "metadata": {},
   "outputs": [
    {
     "name": "stdout",
     "output_type": "stream",
     "text": [
      "holly\n",
      "dlina= 5\n",
      "0\n",
      "h\n",
      "['h']\n",
      "[105, 106, 107, 108, 109, 110, 111, 112, 113, 114, 115, 116, 117, 118, 119, 120, 121, 122]\n",
      "['I', 'J', 'K', 'L', 'M', 'N', 'O', 'P', 'Q', 'R', 'S', 'T', 'U', 'V', 'W', 'X', 'Y', 'Z']\n",
      "1\n",
      "o\n",
      "['o']\n",
      "[112, 113, 114, 115, 116, 117, 118, 119, 120, 121, 122]\n",
      "['P', 'Q', 'R', 'S', 'T', 'U', 'V', 'W', 'X', 'Y', 'Z']\n",
      "2\n",
      "l\n",
      "['l']\n",
      "[109, 110, 111, 112, 113, 114, 115, 116, 117, 118, 119, 120, 121, 122]\n",
      "['M', 'N', 'O', 'P', 'Q', 'R', 'S', 'T', 'U', 'V', 'W', 'X', 'Y', 'Z']\n",
      "3\n",
      "l\n",
      "['l']\n",
      "[109, 110, 111, 112, 113, 114, 115, 116, 117, 118, 119, 120, 121, 122]\n",
      "['M', 'N', 'O', 'P', 'Q', 'R', 'S', 'T', 'U', 'V', 'W', 'X', 'Y', 'Z']\n",
      "[['h', 'I', 'J', 'K', 'L', 'M', 'N', 'O', 'P', 'Q', 'R', 'S', 'T', 'U', 'V', 'W', 'X', 'Y', 'Z'], ['o', 'P', 'Q', 'R', 'S', 'T', 'U', 'V', 'W', 'X', 'Y', 'Z'], ['l', 'M', 'N', 'O', 'P', 'Q', 'R', 'S', 'T', 'U', 'V', 'W', 'X', 'Y', 'Z'], ['l', 'M', 'N', 'O', 'P', 'Q', 'R', 'S', 'T', 'U', 'V', 'W', 'X', 'Y', 'Z'], 'y']\n"
     ]
    }
   ],
   "source": [
    "list_itog = []\n",
    "strok=input()\n",
    "strok.split()\n",
    "list_nabukv=[] # создаем пустой список \n",
    "for word in strok:\n",
    "    list_nabukv.append(word)\n",
    "list1=list_nabukv\n",
    "dlina=len(list1)\n",
    "print('dlina=',dlina) # dlina = 2\n",
    "for i in range(dlina-1): # i= 0, 1\n",
    "    print(i)\n",
    "    str1=list1[i]\n",
    "    print(str1)#   str1=list1[o] = h\n",
    "    str2=str1 #str2=str1=h\n",
    "    str2.split()\n",
    "    list2=[]\n",
    "    for word in str2:\n",
    "        list2.append(word) #list2=['h']\n",
    "    print(list2)\n",
    "    list3=[]\n",
    "    r=len(list2) # r = 1\n",
    "    for j in range(r): # j=1\n",
    "        a = ord(list1[i]) #a=ord(h) 104\n",
    "        b = ord('z')-a   # b = 122-104 (18)\n",
    "        for k in range(b): # k=0,1,2,3,4,5,6,7,8,9,10,11,12,13,14,15,16,17\n",
    "            c=a+k+1 # 104+0+1 = 105\n",
    "            list3.append(c)\n",
    "    print(list3)\n",
    "    #ktrjh\n",
    "    for i in range(len(list3)):\n",
    "        a = chr(list3[i])\n",
    "        a = a.upper()\n",
    "        list3[i]=a\n",
    "    print(list3)\n",
    "    list_itog.append(list2+list3)\n",
    "list_itog.append(list_nabukv[-1])\n",
    "print(list_itog)"
   ]
  },
  {
   "cell_type": "markdown",
   "metadata": {},
   "source": [
    "### Задача 5 (2 балла)\n",
    "Напишите функцию - кассовый аппарат, на вход которой подается содержимое кассы в виде словаря, где ключи - номиналы купюр, а значения - количества купюр данного номинала, находящиеся в кассе. Также на вход функции подается число - сдача, которую необходимо выдать из кассы. Если в кассе найдется такой набор купюр, чтобы выдать запрошенную сдачу - функция должна вернть True, если нет - False.<br>\n",
    "Купюры могут быть номиналом только 25, 50 и 100.\n",
    "\n",
    "**Пример** <br>\n",
    "cashbox = {25:1, 50:2, 100:1} <br>\n",
    "give_change(cashbox, 300) -> False  <br>\n",
    "give_change(cashbox, 75) -> True <br>\n",
    "give_change(cashbox, 0) -> True  <br>"
   ]
  },
  {
   "cell_type": "code",
   "execution_count": 25,
   "metadata": {},
   "outputs": [
    {
     "name": "stdout",
     "output_type": "stream",
     "text": [
      "Сдача:75\n"
     ]
    },
    {
     "data": {
      "text/plain": [
       "True"
      ]
     },
     "execution_count": 25,
     "metadata": {},
     "output_type": "execute_result"
    }
   ],
   "source": [
    "# Решение\n",
    "cash = {25:1, 50:2, 100:1}\n",
    "change=int(input('Сдача:'))\n",
    "def cashbox(cash,change):\n",
    "    while change>=100 and cash[100]>0:\n",
    "        cash[100]-=1\n",
    "        change-=100\n",
    "    while change>=50 and cash[50]>0:\n",
    "        cash[50]-=1\n",
    "        change-=50\n",
    "    while change>=25 and cash[25]>0:\n",
    "        cash[25]-=1\n",
    "        change-=25\n",
    "    if change==0: \n",
    "        return True \n",
    "    else:\n",
    "        return False\n",
    "cashbox(cash,change)"
   ]
  },
  {
   "cell_type": "markdown",
   "metadata": {},
   "source": [
    "### Задача 6 (1 балл)\n",
    "Иннокентий работает кассиром в кинотеатре. Билет на любой фильм стоит 25.**-** В кассу выстроилась очередь, у всех купюры номиналом 25, 50 или 100.**-**. В кинотеатре правило: 1 билет в одни руки. У Кеши пустая касса. Сможет ли он обслужить всех людей из очереди (то есть своевременно выдать каждому сдачу)? Люди в очереди местами не меняются.\n",
    "\n",
    "Напишите функцию, на вход которой подается очередь (список из купюр, которые каждый посетитель собирается отдать) и которая возвращает True - если Кеша сможет всех обслужить и False - если нет. <br>\n",
    "P.s. очередь может быть любой длины. <br>\n",
    "P.p.s. используете функцию - кассовый аппарат, который вы написали в прошлом задании. \n",
    "\n",
    "**Пример **<br>\n",
    "Kesha(25, 25, 50) -> True<br>\n",
    "Kesha(25, 100) -> False<br>\n",
    "Kesha(25, 25, 50, 50, 100) -> False<br>"
   ]
  },
  {
   "cell_type": "code",
   "execution_count": 28,
   "metadata": {},
   "outputs": [
    {
     "data": {
      "text/plain": [
       "True"
      ]
     },
     "execution_count": 28,
     "metadata": {},
     "output_type": "execute_result"
    }
   ],
   "source": [
    "# решение\n",
    "cash = {25:0, 50:0, 100:0}\n",
    "def Kesha(*babyshki):\n",
    "    for babyska in babyshki:\n",
    "        if babyska==25:\n",
    "            cash[25]+=1\n",
    "        elif cashbox(cash,babyska-25):\n",
    "            pass\n",
    "        else:\n",
    "            return False\n",
    "    return True\n",
    "Kesha(25, 25, 50)"
   ]
  },
  {
   "cell_type": "markdown",
   "metadata": {},
   "source": [
    "### Задача 7 Кегельбан (2 балла)\n",
    "N кеглей выставили в один ряд, занумеровав их слева направо числами от 1 до N. Затем по этому ряду бросили K шаров, при этом i-й шар сбил все кегли с номерами от li до ri включительно. <br>\n",
    "Напишите функцию, которая получает на вход количество кеглей N и количество бросков K, и возвращает последовательность из N символов, где j-й символ есть \"I\", если j-я кегля осталась стоять, или \".\", если j-я кегля была сбита.<br>\n",
    "Броски происходят внутри функции.\n",
    "\n",
    "**Примеры**<br>\n",
    "***Вход***<br>\n",
    "20 3<br>\n",
    "*броски*<br>\n",
    "3 8<br>\n",
    "13 17<br>\n",
    "6 9<br>\n",
    "***Выход***<br>\n",
    "II.......III.....III\n",
    "\n",
    "\n",
    "***Вход*** <br>\n",
    "5 0<br>\n",
    "***Выход*** <br>\n",
    "IIIII"
   ]
  },
  {
   "cell_type": "code",
   "execution_count": 29,
   "metadata": {},
   "outputs": [
    {
     "data": {
      "text/plain": [
       "'IIIII'"
      ]
     },
     "execution_count": 29,
     "metadata": {},
     "output_type": "execute_result"
    }
   ],
   "source": [
    "# решение\n",
    "def Keglya(N,K):\n",
    "    g=list('I'*(N+1))\n",
    "    for i in range(0,K):\n",
    "        li=int(input())\n",
    "        ri=int(input())\n",
    "        for j in range(li,ri+1):\n",
    "            g[j]='.'\n",
    "    return ''.join(g[1:])\n",
    "Keglya(5,0)"
   ]
  },
  {
   "cell_type": "markdown",
   "metadata": {},
   "source": [
    "### Задача 8 Записная книжка (3 балла)\n",
    "Раньше Ева вела записную книжку хаотично - имена, адреса, номера были перемешаны в строке, но при этом в одной строке записана информация только об одном человеке. Ваша задача написать функцию, которая содержимое книжки переведет словарь со структурой, приведенной в примере. <br>\n",
    "При этом содержимое книжки подается в виде одного элемента типа строка: строчки записной книжки разделяются символом переноса строки \"\\n\", ФИО человека заключено в елочки: <>, номер обязтельно начинается с +, остальное является адресом, элементы отделяются друг от друга двумя пробелами, адрес может быть написан с разрывом. При этом Ева иногда в записях делала пометки в виде \"?\" и \"!\". Эти пометки не должны войти в конечный словарь.\n",
    "\n",
    "**Пример**<br>"
   ]
  },
  {
   "cell_type": "code",
   "execution_count": 6,
   "metadata": {},
   "outputs": [
    {
     "data": {
      "text/plain": [
       "{'Воронцов Михаил': {'address': 'ул. Большая Полянка, Москва',\n",
       "  'number': '+7-923-911-2134'},\n",
       " 'Кужим': {'address': 'Санкт-Петербург, ул.Свободы, дом 1',\n",
       "  'number': '+34-3145-3245'},\n",
       " 'Рождественский Р.': {'address': 'Мосфильмовская 34',\n",
       "  'number': '+1-541-754-3010 156'}}"
      ]
     },
     "execution_count": 6,
     "metadata": {},
     "output_type": "execute_result"
    }
   ],
   "source": [
    "s = '''+1-541-754-3010 156?!  Мосфильмовская 34,  <Рождественский Р.>\\n  ул. Большая Полянка, \n",
    "<Воронцов Михаил>  Москва!  +7-923-911-2134\\n<Кужим>  Санкт-Петербург, ул.Свободы,  +34-3145-3245  ?дом 1'''\n",
    "def parse_str(s):\n",
    "    # your code\n",
    "\n",
    "d = parse_str(s)     \n",
    "d"
   ]
  },
  {
   "cell_type": "code",
   "execution_count": 30,
   "metadata": {},
   "outputs": [
    {
     "data": {
      "text/plain": [
       "{'Рождественский Р.': {'adress': 'Мосфильмовская 34',\n",
       "  'number': '+1-541-754-3010 156'},\n",
       " 'Воронцов Михаил': {'adress': 'ул. Большая Полянка, Москва',\n",
       "  'number': '+7-923-911-2134'},\n",
       " 'Кужим': {'adress': 'Санкт-Петербург, ул.Свободы, дом 1',\n",
       "  'number': '+34-3145-3245'}}"
      ]
     },
     "execution_count": 30,
     "metadata": {},
     "output_type": "execute_result"
    }
   ],
   "source": [
    "s = '''+1-541-754-3010 156?!  Мосфильмовская 34,  <Рождественский Р.>\\n  ул. Большая Полянка,  <Воронцов Михаил>  Москва!  +7-923-911-2134\\n<Кужим>  Санкт-Петербург, ул.Свободы,  +34-3145-3245  ?дом 1'''\n",
    "def parse_str(s):\n",
    "    s=s.replace('?','')\n",
    "    s=s.replace('!','')\n",
    "    s=s.split('\\n')\n",
    "    zapiska={}\n",
    "    for i in s:\n",
    "        number=0\n",
    "        name=0\n",
    "        sname=''\n",
    "        j=i.split('  ')\n",
    "        for index in range(0,len(j)):\n",
    "            if len(j[index])==0:\n",
    "                continue \n",
    "            if j[index][0]=='<':\n",
    "                name=index\n",
    "            if j[index][0]=='+':\n",
    "                number=index\n",
    "        sname = j[name][1:-1]\n",
    "        zapiska.update({sname:{\"adress\":\"\",\"number\":j[number]}})\n",
    "        for index in range(0,len(j)):\n",
    "            if index==name or index ==number:\n",
    "                continue\n",
    "            zapiska[sname]['adress']+= ' '+j[index]\n",
    "        for k,v in zapiska.items():\n",
    "            if  zapiska[k]['adress'][-1]==\",\":\n",
    "                zapiska[k]['adress']=zapiska[k]['adress'][0:-1]\n",
    "            zapiska[k]['adress']=zapiska[k]['adress'].strip()\n",
    "    return zapiska\n",
    "parse_str(s)"
   ]
  },
  {
   "cell_type": "markdown",
   "metadata": {},
   "source": [
    "### Задача 9  «Диагонали, параллельные главной» (1 балл)\n",
    "На вход функции подается число n. Функция должна создать массив $n\\times n$ и заполнить его по следующему правилу. На главной диагонали должны быть записаны числа 0. На двух диагоналях, прилегающих к главной, числа 1. На следующих двух диагоналях числа 2, и т.д.\n",
    "\n",
    "**Пример**<br>\n",
    "***Вход***<br>\n",
    "5<br>\n",
    "***Выход***\t<br>\n",
    "0 1 2 3 4<br>\n",
    "1 0 1 2 3<br>\n",
    "2 1 0 1 2<br>\n",
    "3 2 1 0 1<br>\n",
    "4 3 2 1 0<br>"
   ]
  },
  {
   "cell_type": "code",
   "execution_count": 32,
   "metadata": {},
   "outputs": [
    {
     "name": "stdout",
     "output_type": "stream",
     "text": [
      "6\n",
      "0 1 2 3 4 5 \n",
      "1 0 1 2 3 4 \n",
      "2 1 0 1 2 3 \n",
      "3 2 1 0 1 2 \n",
      "4 3 2 1 0 1 \n",
      "5 4 3 2 1 0 \n"
     ]
    }
   ],
   "source": [
    "# решение\n",
    "n=int(input())\n",
    "def masiv_n(n):\n",
    "    a = [0] * n\n",
    "    for i in range(n):\n",
    "        a[i] = [0] * n\n",
    "    for i in range(n):\n",
    "        for j in range(n):\n",
    "            for g in range(n):\n",
    "                if i-g==j:\n",
    "                    a[j][i]=g \n",
    "                if i+g==j:\n",
    "                    a[j][i]=g\n",
    "    return a \n",
    "a=masiv_n(n)\n",
    "for i in range(n):\n",
    "    for j in range(n):\n",
    "        print(a[i][j],end=' ')\n",
    "    print()"
   ]
  },
  {
   "cell_type": "markdown",
   "metadata": {},
   "source": [
    "### Задача 10 Числа Фибоначчи (3 балла)\n",
    "Напишите функцию fib(n), которая по данному целому неотрицательному n возвращает n-e число Фибоначчи. В этой задаче нельзя использовать циклы — используйте рекурсию."
   ]
  },
  {
   "cell_type": "code",
   "execution_count": 35,
   "metadata": {},
   "outputs": [
    {
     "name": "stdout",
     "output_type": "stream",
     "text": [
      "4\n"
     ]
    },
    {
     "data": {
      "text/plain": [
       "3"
      ]
     },
     "execution_count": 35,
     "metadata": {},
     "output_type": "execute_result"
    }
   ],
   "source": [
    "# решение\n",
    "n=int(input())\n",
    "def fib(n):\n",
    "    if n==0:\n",
    "        return 0\n",
    "    if n==1:\n",
    "        return 1\n",
    "    return fib(n-1)+fib(n-2)\n",
    "fib(n)"
   ]
  },
  {
   "cell_type": "markdown",
   "metadata": {},
   "source": [
    "### Обратная связь"
   ]
  },
  {
   "cell_type": "markdown",
   "metadata": {},
   "source": [
    "Пожалуйста, пройдите [анкету](https://goo.gl/forms/IeIO2lVd9iY7GN4v2) и оставьте свои впечатления от домашней работы / лекции. Мы очень хотим стать для вас лучше)))"
   ]
  }
 ],
 "metadata": {
  "anaconda-cloud": {},
  "kernelspec": {
   "display_name": "Python 3",
   "language": "python",
   "name": "python3"
  },
  "language_info": {
   "codemirror_mode": {
    "name": "ipython",
    "version": 3
   },
   "file_extension": ".py",
   "mimetype": "text/x-python",
   "name": "python",
   "nbconvert_exporter": "python",
   "pygments_lexer": "ipython3",
   "version": "3.7.0"
  }
 },
 "nbformat": 4,
 "nbformat_minor": 2
}
